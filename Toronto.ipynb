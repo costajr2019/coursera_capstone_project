{
    "nbformat_minor": 1, 
    "cells": [
        {
            "source": "For this assignment, you will be required to explore and cluster the neighborhoods in Toronto.\n\nStart by creating a new Notebook for this assignment.\n\nUse the Notebook to build the code to scrape the following Wikipedia page, https://en.wikipedia.org/wiki/List_of_postal_codes_of_Canada:_M, in order to obtain the data that is in the table of postal codes and to transform the data into a pandas dataframe.", 
            "cell_type": "markdown", 
            "metadata": {
                "collapsed": true
            }
        }, 
        {
            "source": "First, importing everything needed:", 
            "cell_type": "markdown", 
            "metadata": {}
        }, 
        {
            "execution_count": 152, 
            "cell_type": "code", 
            "metadata": {}, 
            "outputs": [], 
            "source": "import requests\nimport urllib.request\nfrom bs4 import BeautifulSoup"
        }, 
        {
            "source": "We begin by reading the source code for a given web page and creating a BeautifulSoup (soup)object with the BeautifulSoup function.", 
            "cell_type": "markdown", 
            "metadata": {}
        }, 
        {
            "execution_count": 153, 
            "cell_type": "code", 
            "metadata": {}, 
            "outputs": [], 
            "source": "url = \"https://en.wikipedia.org/wiki/List_of_postal_codes_of_Canada:_M\"\n\nr = requests.get(url)\n\nhtml_content = r.text\n\nsoup = BeautifulSoup(html_content,'lxml')"
        }, 
        {
            "source": "Now we have to extract the table from the imported html file content.", 
            "cell_type": "markdown", 
            "metadata": {}
        }, 
        {
            "execution_count": null, 
            "cell_type": "code", 
            "metadata": {}, 
            "outputs": [], 
            "source": "table = soup.find('table',{'class':'wikitable sortable'})"
        }, 
        {
            "source": "Time to find the headings of the imported table.", 
            "cell_type": "markdown", 
            "metadata": {}
        }, 
        {
            "execution_count": 154, 
            "cell_type": "code", 
            "metadata": {}, 
            "outputs": [
                {
                    "execution_count": 154, 
                    "metadata": {}, 
                    "data": {
                        "text/plain": "['Postcode', 'Borough', 'Neighbourhood']"
                    }, 
                    "output_type": "execute_result"
                }
            ], 
            "source": "ths = table.find_all('th')\nheadings = [th.text.strip() for th in ths]\nheadings"
        }, 
        {
            "source": "Now we need to use the find_all() function two times: first to get each line of the table and then to get each element of each line.", 
            "cell_type": "markdown", 
            "metadata": {}
        }, 
        {
            "execution_count": 162, 
            "cell_type": "code", 
            "metadata": {}, 
            "outputs": [], 
            "source": "postcode = []\nborough = []\nneighbourhood = []\nfor tr in table.find_all('tr'):\n    tds = tr.find_all('td')\n    if (not tds) or (tds[1].text == 'Not assigned'):\n            continue      \n    postcode.append(tds[0].text)\n    borough.append(tds[1].text) \n    if (tds[2].text == 'Not assigned'):\n        neighbourhood.append(tds[2].text)\n    else:\n        neighbourhood.append(tds[1].text)\n"
        }, 
        {
            "source": "Time to join the lists into a Pandas DataFrame.", 
            "cell_type": "markdown", 
            "metadata": {}
        }, 
        {
            "execution_count": 163, 
            "cell_type": "code", 
            "metadata": {}, 
            "outputs": [], 
            "source": "import pandas as pd\ndf = pd.DataFrame({headings[0]:postcode,headings[1]:borough,headings[2]:neighbourhood})"
        }, 
        {
            "source": "Now, we have to group and join the table lines according to the Postcode key.", 
            "cell_type": "markdown", 
            "metadata": {}
        }, 
        {
            "execution_count": 169, 
            "cell_type": "code", 
            "metadata": {}, 
            "outputs": [
                {
                    "execution_count": 169, 
                    "metadata": {}, 
                    "data": {
                        "text/html": "<div>\n<style scoped>\n    .dataframe tbody tr th:only-of-type {\n        vertical-align: middle;\n    }\n\n    .dataframe tbody tr th {\n        vertical-align: top;\n    }\n\n    .dataframe thead th {\n        text-align: right;\n    }\n</style>\n<table border=\"1\" class=\"dataframe\">\n  <thead>\n    <tr style=\"text-align: right;\">\n      <th></th>\n      <th>Postcode</th>\n      <th>Borough</th>\n      <th>Neighbourhood</th>\n    </tr>\n  </thead>\n  <tbody>\n    <tr>\n      <th>0</th>\n      <td>M1B</td>\n      <td>Scarborough</td>\n      <td>Scarborough, Scarborough</td>\n    </tr>\n    <tr>\n      <th>1</th>\n      <td>M1C</td>\n      <td>Scarborough</td>\n      <td>Scarborough, Scarborough, Scarborough</td>\n    </tr>\n    <tr>\n      <th>2</th>\n      <td>M1E</td>\n      <td>Scarborough</td>\n      <td>Scarborough, Scarborough, Scarborough</td>\n    </tr>\n    <tr>\n      <th>3</th>\n      <td>M1G</td>\n      <td>Scarborough</td>\n      <td>Scarborough</td>\n    </tr>\n    <tr>\n      <th>4</th>\n      <td>M1H</td>\n      <td>Scarborough</td>\n      <td>Scarborough</td>\n    </tr>\n    <tr>\n      <th>5</th>\n      <td>M1J</td>\n      <td>Scarborough</td>\n      <td>Scarborough</td>\n    </tr>\n    <tr>\n      <th>6</th>\n      <td>M1K</td>\n      <td>Scarborough</td>\n      <td>Scarborough, Scarborough, Scarborough</td>\n    </tr>\n    <tr>\n      <th>7</th>\n      <td>M1L</td>\n      <td>Scarborough</td>\n      <td>Scarborough, Scarborough, Scarborough</td>\n    </tr>\n    <tr>\n      <th>8</th>\n      <td>M1M</td>\n      <td>Scarborough</td>\n      <td>Scarborough, Scarborough, Scarborough</td>\n    </tr>\n    <tr>\n      <th>9</th>\n      <td>M1N</td>\n      <td>Scarborough</td>\n      <td>Scarborough, Scarborough</td>\n    </tr>\n    <tr>\n      <th>10</th>\n      <td>M1P</td>\n      <td>Scarborough</td>\n      <td>Scarborough, Scarborough, Scarborough</td>\n    </tr>\n    <tr>\n      <th>11</th>\n      <td>M1R</td>\n      <td>Scarborough</td>\n      <td>Scarborough, Scarborough</td>\n    </tr>\n    <tr>\n      <th>12</th>\n      <td>M1S</td>\n      <td>Scarborough</td>\n      <td>Scarborough</td>\n    </tr>\n    <tr>\n      <th>13</th>\n      <td>M1T</td>\n      <td>Scarborough</td>\n      <td>Scarborough, Scarborough, Scarborough</td>\n    </tr>\n    <tr>\n      <th>14</th>\n      <td>M1V</td>\n      <td>Scarborough</td>\n      <td>Scarborough, Scarborough, Scarborough, Scarbor...</td>\n    </tr>\n    <tr>\n      <th>15</th>\n      <td>M1W</td>\n      <td>Scarborough</td>\n      <td>Scarborough</td>\n    </tr>\n    <tr>\n      <th>16</th>\n      <td>M1X</td>\n      <td>Scarborough</td>\n      <td>Scarborough</td>\n    </tr>\n    <tr>\n      <th>17</th>\n      <td>M2H</td>\n      <td>North York</td>\n      <td>North York</td>\n    </tr>\n    <tr>\n      <th>18</th>\n      <td>M2J</td>\n      <td>North York</td>\n      <td>North York, North York, North York</td>\n    </tr>\n    <tr>\n      <th>19</th>\n      <td>M2K</td>\n      <td>North York</td>\n      <td>North York</td>\n    </tr>\n    <tr>\n      <th>20</th>\n      <td>M2L</td>\n      <td>North York</td>\n      <td>North York, North York</td>\n    </tr>\n    <tr>\n      <th>21</th>\n      <td>M2M</td>\n      <td>North York</td>\n      <td>North York, North York</td>\n    </tr>\n    <tr>\n      <th>22</th>\n      <td>M2N</td>\n      <td>North York</td>\n      <td>North York</td>\n    </tr>\n    <tr>\n      <th>23</th>\n      <td>M2P</td>\n      <td>North York</td>\n      <td>North York</td>\n    </tr>\n    <tr>\n      <th>24</th>\n      <td>M2R</td>\n      <td>North York</td>\n      <td>North York</td>\n    </tr>\n    <tr>\n      <th>25</th>\n      <td>M3A</td>\n      <td>North York</td>\n      <td>North York</td>\n    </tr>\n    <tr>\n      <th>26</th>\n      <td>M3B</td>\n      <td>North York</td>\n      <td>North York</td>\n    </tr>\n    <tr>\n      <th>27</th>\n      <td>M3C</td>\n      <td>North York</td>\n      <td>North York, North York</td>\n    </tr>\n    <tr>\n      <th>28</th>\n      <td>M3H</td>\n      <td>North York</td>\n      <td>North York, North York, North York</td>\n    </tr>\n    <tr>\n      <th>29</th>\n      <td>M3J</td>\n      <td>North York</td>\n      <td>North York, North York</td>\n    </tr>\n    <tr>\n      <th>...</th>\n      <td>...</td>\n      <td>...</td>\n      <td>...</td>\n    </tr>\n    <tr>\n      <th>73</th>\n      <td>M6C</td>\n      <td>York</td>\n      <td>York</td>\n    </tr>\n    <tr>\n      <th>74</th>\n      <td>M6E</td>\n      <td>York</td>\n      <td>York</td>\n    </tr>\n    <tr>\n      <th>75</th>\n      <td>M6G</td>\n      <td>Downtown Toronto</td>\n      <td>Downtown Toronto</td>\n    </tr>\n    <tr>\n      <th>76</th>\n      <td>M6H</td>\n      <td>West Toronto</td>\n      <td>West Toronto, West Toronto</td>\n    </tr>\n    <tr>\n      <th>77</th>\n      <td>M6J</td>\n      <td>West Toronto</td>\n      <td>West Toronto, West Toronto</td>\n    </tr>\n    <tr>\n      <th>78</th>\n      <td>M6K</td>\n      <td>West Toronto</td>\n      <td>West Toronto, West Toronto, West Toronto</td>\n    </tr>\n    <tr>\n      <th>79</th>\n      <td>M6L</td>\n      <td>North York</td>\n      <td>North York, North York, North York</td>\n    </tr>\n    <tr>\n      <th>80</th>\n      <td>M6M</td>\n      <td>York</td>\n      <td>York, York, York, York</td>\n    </tr>\n    <tr>\n      <th>81</th>\n      <td>M6N</td>\n      <td>York</td>\n      <td>York, York</td>\n    </tr>\n    <tr>\n      <th>82</th>\n      <td>M6P</td>\n      <td>West Toronto</td>\n      <td>West Toronto, West Toronto</td>\n    </tr>\n    <tr>\n      <th>83</th>\n      <td>M6R</td>\n      <td>West Toronto</td>\n      <td>West Toronto, West Toronto</td>\n    </tr>\n    <tr>\n      <th>84</th>\n      <td>M6S</td>\n      <td>West Toronto</td>\n      <td>West Toronto, West Toronto</td>\n    </tr>\n    <tr>\n      <th>85</th>\n      <td>M7A</td>\n      <td>Queen's Park</td>\n      <td>Queen's Park</td>\n    </tr>\n    <tr>\n      <th>86</th>\n      <td>M7R</td>\n      <td>Mississauga</td>\n      <td>Mississauga</td>\n    </tr>\n    <tr>\n      <th>87</th>\n      <td>M7Y</td>\n      <td>East Toronto</td>\n      <td>East Toronto</td>\n    </tr>\n    <tr>\n      <th>88</th>\n      <td>M8V</td>\n      <td>Etobicoke</td>\n      <td>Etobicoke, Etobicoke, Etobicoke</td>\n    </tr>\n    <tr>\n      <th>89</th>\n      <td>M8W</td>\n      <td>Etobicoke</td>\n      <td>Etobicoke, Etobicoke</td>\n    </tr>\n    <tr>\n      <th>90</th>\n      <td>M8X</td>\n      <td>Etobicoke</td>\n      <td>Etobicoke, Etobicoke, Etobicoke</td>\n    </tr>\n    <tr>\n      <th>91</th>\n      <td>M8Y</td>\n      <td>Etobicoke</td>\n      <td>Etobicoke, Etobicoke, Etobicoke, Etobicoke, Et...</td>\n    </tr>\n    <tr>\n      <th>92</th>\n      <td>M8Z</td>\n      <td>Etobicoke</td>\n      <td>Etobicoke, Etobicoke, Etobicoke, Etobicoke, Et...</td>\n    </tr>\n    <tr>\n      <th>93</th>\n      <td>M9A</td>\n      <td>Etobicoke</td>\n      <td>Etobicoke</td>\n    </tr>\n    <tr>\n      <th>94</th>\n      <td>M9B</td>\n      <td>Etobicoke</td>\n      <td>Etobicoke, Etobicoke, Etobicoke, Etobicoke, Et...</td>\n    </tr>\n    <tr>\n      <th>95</th>\n      <td>M9C</td>\n      <td>Etobicoke</td>\n      <td>Etobicoke, Etobicoke, Etobicoke, Etobicoke</td>\n    </tr>\n    <tr>\n      <th>96</th>\n      <td>M9L</td>\n      <td>North York</td>\n      <td>North York</td>\n    </tr>\n    <tr>\n      <th>97</th>\n      <td>M9M</td>\n      <td>North York</td>\n      <td>North York, North York</td>\n    </tr>\n    <tr>\n      <th>98</th>\n      <td>M9N</td>\n      <td>York</td>\n      <td>York</td>\n    </tr>\n    <tr>\n      <th>99</th>\n      <td>M9P</td>\n      <td>Etobicoke</td>\n      <td>Etobicoke</td>\n    </tr>\n    <tr>\n      <th>100</th>\n      <td>M9R</td>\n      <td>Etobicoke</td>\n      <td>Etobicoke, Etobicoke, Etobicoke, Etobicoke</td>\n    </tr>\n    <tr>\n      <th>101</th>\n      <td>M9V</td>\n      <td>Etobicoke</td>\n      <td>Etobicoke, Etobicoke, Etobicoke, Etobicoke, Et...</td>\n    </tr>\n    <tr>\n      <th>102</th>\n      <td>M9W</td>\n      <td>Etobicoke</td>\n      <td>Etobicoke</td>\n    </tr>\n  </tbody>\n</table>\n<p>103 rows \u00d7 3 columns</p>\n</div>", 
                        "text/plain": "    Postcode           Borough  \\\n0        M1B       Scarborough   \n1        M1C       Scarborough   \n2        M1E       Scarborough   \n3        M1G       Scarborough   \n4        M1H       Scarborough   \n5        M1J       Scarborough   \n6        M1K       Scarborough   \n7        M1L       Scarborough   \n8        M1M       Scarborough   \n9        M1N       Scarborough   \n10       M1P       Scarborough   \n11       M1R       Scarborough   \n12       M1S       Scarborough   \n13       M1T       Scarborough   \n14       M1V       Scarborough   \n15       M1W       Scarborough   \n16       M1X       Scarborough   \n17       M2H        North York   \n18       M2J        North York   \n19       M2K        North York   \n20       M2L        North York   \n21       M2M        North York   \n22       M2N        North York   \n23       M2P        North York   \n24       M2R        North York   \n25       M3A        North York   \n26       M3B        North York   \n27       M3C        North York   \n28       M3H        North York   \n29       M3J        North York   \n..       ...               ...   \n73       M6C              York   \n74       M6E              York   \n75       M6G  Downtown Toronto   \n76       M6H      West Toronto   \n77       M6J      West Toronto   \n78       M6K      West Toronto   \n79       M6L        North York   \n80       M6M              York   \n81       M6N              York   \n82       M6P      West Toronto   \n83       M6R      West Toronto   \n84       M6S      West Toronto   \n85       M7A      Queen's Park   \n86       M7R       Mississauga   \n87       M7Y      East Toronto   \n88       M8V         Etobicoke   \n89       M8W         Etobicoke   \n90       M8X         Etobicoke   \n91       M8Y         Etobicoke   \n92       M8Z         Etobicoke   \n93       M9A         Etobicoke   \n94       M9B         Etobicoke   \n95       M9C         Etobicoke   \n96       M9L        North York   \n97       M9M        North York   \n98       M9N              York   \n99       M9P         Etobicoke   \n100      M9R         Etobicoke   \n101      M9V         Etobicoke   \n102      M9W         Etobicoke   \n\n                                         Neighbourhood  \n0                             Scarborough, Scarborough  \n1                Scarborough, Scarborough, Scarborough  \n2                Scarborough, Scarborough, Scarborough  \n3                                          Scarborough  \n4                                          Scarborough  \n5                                          Scarborough  \n6                Scarborough, Scarborough, Scarborough  \n7                Scarborough, Scarborough, Scarborough  \n8                Scarborough, Scarborough, Scarborough  \n9                             Scarborough, Scarborough  \n10               Scarborough, Scarborough, Scarborough  \n11                            Scarborough, Scarborough  \n12                                         Scarborough  \n13               Scarborough, Scarborough, Scarborough  \n14   Scarborough, Scarborough, Scarborough, Scarbor...  \n15                                         Scarborough  \n16                                         Scarborough  \n17                                          North York  \n18                  North York, North York, North York  \n19                                          North York  \n20                              North York, North York  \n21                              North York, North York  \n22                                          North York  \n23                                          North York  \n24                                          North York  \n25                                          North York  \n26                                          North York  \n27                              North York, North York  \n28                  North York, North York, North York  \n29                              North York, North York  \n..                                                 ...  \n73                                                York  \n74                                                York  \n75                                    Downtown Toronto  \n76                          West Toronto, West Toronto  \n77                          West Toronto, West Toronto  \n78            West Toronto, West Toronto, West Toronto  \n79                  North York, North York, North York  \n80                              York, York, York, York  \n81                                          York, York  \n82                          West Toronto, West Toronto  \n83                          West Toronto, West Toronto  \n84                          West Toronto, West Toronto  \n85                                        Queen's Park  \n86                                         Mississauga  \n87                                        East Toronto  \n88                     Etobicoke, Etobicoke, Etobicoke  \n89                                Etobicoke, Etobicoke  \n90                     Etobicoke, Etobicoke, Etobicoke  \n91   Etobicoke, Etobicoke, Etobicoke, Etobicoke, Et...  \n92   Etobicoke, Etobicoke, Etobicoke, Etobicoke, Et...  \n93                                           Etobicoke  \n94   Etobicoke, Etobicoke, Etobicoke, Etobicoke, Et...  \n95          Etobicoke, Etobicoke, Etobicoke, Etobicoke  \n96                                          North York  \n97                              North York, North York  \n98                                                York  \n99                                           Etobicoke  \n100         Etobicoke, Etobicoke, Etobicoke, Etobicoke  \n101  Etobicoke, Etobicoke, Etobicoke, Etobicoke, Et...  \n102                                          Etobicoke  \n\n[103 rows x 3 columns]"
                    }, 
                    "output_type": "execute_result"
                }
            ], 
            "source": "grouped = df.groupby([headings[0], headings[1]])[headings[2]].apply(lambda text: ''.join(text.to_string(index=False))).str.replace('(\\\\n)', ', ').reset_index()\ngrouped"
        }, 
        {
            "execution_count": 166, 
            "cell_type": "code", 
            "metadata": {}, 
            "outputs": [
                {
                    "execution_count": 166, 
                    "metadata": {}, 
                    "data": {
                        "text/plain": "(103, 3)"
                    }, 
                    "output_type": "execute_result"
                }
            ], 
            "source": "grouped.shape"
        }
    ], 
    "metadata": {
        "kernelspec": {
            "display_name": "Python 3.5", 
            "name": "python3", 
            "language": "python"
        }, 
        "language_info": {
            "mimetype": "text/x-python", 
            "nbconvert_exporter": "python", 
            "version": "3.5.5", 
            "name": "python", 
            "file_extension": ".py", 
            "pygments_lexer": "ipython3", 
            "codemirror_mode": {
                "version": 3, 
                "name": "ipython"
            }
        }
    }, 
    "nbformat": 4
}